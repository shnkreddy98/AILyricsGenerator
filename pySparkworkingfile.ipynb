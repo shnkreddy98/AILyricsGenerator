{
 "cells": [
  {
   "cell_type": "code",
   "execution_count": 1,
   "metadata": {},
   "outputs": [],
   "source": [
    "import os\n",
    "\n",
    "from pyspark import SparkConf\n",
    "from pyspark.sql import SparkSession"
   ]
  },
  {
   "cell_type": "code",
   "execution_count": 2,
   "metadata": {},
   "outputs": [],
   "source": [
    "access_key = os.getenv(\"AWS_ACCESS_KEY_ID\")\n",
    "secret_key = os.getenv(\"AWS_SECRET_ACCESS_KEY\")\n",
    "\n",
    "s3_url = 's3a://genius-lyrics-dataset/song_lyrics.csv'"
   ]
  },
  {
   "cell_type": "code",
   "execution_count": 3,
   "metadata": {},
   "outputs": [
    {
     "data": {
      "text/plain": [
       "<pyspark.conf.SparkConf at 0x7fb4890188b0>"
      ]
     },
     "execution_count": 3,
     "metadata": {},
     "output_type": "execute_result"
    }
   ],
   "source": [
    "conf = SparkConf()\n",
    "conf.set('spark.hadoop.fs.s3a.access.key',access_key)\n",
    "conf.set('spark.hadoop.fs.s3a.secret.key', secret_key)\n",
    "conf.set('spark.hadoop.fs.s3a.aws.credentials.provider', 'org.apache.hadoop.fs.s3a.SimpleAWSCredentialsProvider')\n",
    "conf.set('spark.jars.packages', 'org.apache.hadoop:hadoop-aws:3.3.4')"
   ]
  },
  {
   "cell_type": "code",
   "execution_count": 4,
   "metadata": {},
   "outputs": [
    {
     "name": "stderr",
     "output_type": "stream",
     "text": [
      "23/11/16 21:40:35 WARN Utils: Your hostname, Shashanks-MacBook-Air.local resolves to a loopback address: 127.0.0.1; using 10.0.0.62 instead (on interface en0)\n",
      "23/11/16 21:40:35 WARN Utils: Set SPARK_LOCAL_IP if you need to bind to another address\n"
     ]
    },
    {
     "name": "stdout",
     "output_type": "stream",
     "text": [
      ":: loading settings :: url = jar:file:/Users/reddy/opt/anaconda3/envs/AILyricsGen/lib/python3.9/site-packages/pyspark/jars/ivy-2.5.1.jar!/org/apache/ivy/core/settings/ivysettings.xml\n"
     ]
    },
    {
     "name": "stderr",
     "output_type": "stream",
     "text": [
      "Ivy Default Cache set to: /Users/reddy/.ivy2/cache\n",
      "The jars for the packages stored in: /Users/reddy/.ivy2/jars\n",
      "org.apache.hadoop#hadoop-aws added as a dependency\n",
      ":: resolving dependencies :: org.apache.spark#spark-submit-parent-1f441ff8-f765-41c6-a882-8226bbc6b845;1.0\n",
      "\tconfs: [default]\n",
      "\tfound org.apache.hadoop#hadoop-aws;3.3.4 in central\n",
      "\tfound com.amazonaws#aws-java-sdk-bundle;1.12.262 in central\n",
      "\tfound org.wildfly.openssl#wildfly-openssl;1.0.7.Final in central\n",
      ":: resolution report :: resolve 187ms :: artifacts dl 8ms\n",
      "\t:: modules in use:\n",
      "\tcom.amazonaws#aws-java-sdk-bundle;1.12.262 from central in [default]\n",
      "\torg.apache.hadoop#hadoop-aws;3.3.4 from central in [default]\n",
      "\torg.wildfly.openssl#wildfly-openssl;1.0.7.Final from central in [default]\n",
      "\t---------------------------------------------------------------------\n",
      "\t|                  |            modules            ||   artifacts   |\n",
      "\t|       conf       | number| search|dwnlded|evicted|| number|dwnlded|\n",
      "\t---------------------------------------------------------------------\n",
      "\t|      default     |   3   |   0   |   0   |   0   ||   3   |   0   |\n",
      "\t---------------------------------------------------------------------\n",
      ":: retrieving :: org.apache.spark#spark-submit-parent-1f441ff8-f765-41c6-a882-8226bbc6b845\n",
      "\tconfs: [default]\n",
      "\t0 artifacts copied, 3 already retrieved (0kB/5ms)\n",
      "23/11/16 21:40:35 WARN NativeCodeLoader: Unable to load native-hadoop library for your platform... using builtin-java classes where applicable\n",
      "Setting default log level to \"WARN\".\n",
      "To adjust logging level use sc.setLogLevel(newLevel). For SparkR, use setLogLevel(newLevel).\n"
     ]
    }
   ],
   "source": [
    "spark = SparkSession.builder.config(conf=conf).getOrCreate()"
   ]
  },
  {
   "cell_type": "code",
   "execution_count": 5,
   "metadata": {},
   "outputs": [
    {
     "name": "stderr",
     "output_type": "stream",
     "text": [
      "23/11/16 21:40:40 WARN MetricsConfig: Cannot locate configuration: tried hadoop-metrics2-s3a-file-system.properties,hadoop-metrics2.properties\n",
      "                                                                                \r"
     ]
    }
   ],
   "source": [
    "df = spark.read.option(\"header\", \"true\") \\\n",
    "        .option(\"multiline\", \"true\") \\\n",
    "            .option(\"quote\", \"\\\"\") \\\n",
    "                .option(\"escape\", \"\\\"\") \\\n",
    "                .csv(s3_url)"
   ]
  },
  {
   "cell_type": "code",
   "execution_count": 6,
   "metadata": {},
   "outputs": [
    {
     "name": "stderr",
     "output_type": "stream",
     "text": [
      "                                                                                \r"
     ]
    },
    {
     "name": "stdout",
     "output_type": "stream",
     "text": [
      "+--------------------+---+---------+----+------+--------------------+--------------------+---+-------------+-----------+--------+\n",
      "|               title|tag|   artist|year| views|            features|              lyrics| id|language_cld3|language_ft|language|\n",
      "+--------------------+---+---------+----+------+--------------------+--------------------+---+-------------+-----------+--------+\n",
      "|           Killa Cam|rap|  Cam'ron|2004|173166|{\"Cam\\\\'ron\",\"Ope...|[Chorus: Opera St...|  1|           en|         en|      en|\n",
      "|          Can I Live|rap|    JAY-Z|1996|468624|                  {}|[Produced by Irv ...|  3|           en|         en|      en|\n",
      "|   Forgive Me Father|rap| Fabolous|2003|  4743|                  {}|Maybe cause I'm e...|  4|           en|         en|      en|\n",
      "|        Down and Out|rap|  Cam'ron|2004|144404|{\"Cam\\\\'ron\",\"Kan...|[Produced by Kany...|  5|           en|         en|      en|\n",
      "|              Fly In|rap|Lil Wayne|2005| 78271|                  {}|[Intro]\\nSo they ...|  6|           en|         en|      en|\n",
      "|      Lollipop Remix|rap|Lil Wayne|2008|580832|{\"Kanye West\",\"St...|[Intro: Lil Wayne...|  7|           en|         en|      en|\n",
      "|          Im Not You|rap|   Clipse|2002| 28645|{Jadakiss,\"Styles...|[Intro: Pusha T]\\...|  8|           en|         en|      en|\n",
      "|         Family Ties|rap|  Cam'ron|2004| 41960|{\"Cam\\\\'ron\",\"Lad...|[Verse 1: Cam'ron...|  9|           en|         en|      en|\n",
      "|   Rockin and Rollin|rap|  Cam'ron|1998|  6399|       {\"Cam\\\\'ron\"}|[Verse 1]\\nAy yo ...| 10|           en|         en|      en|\n",
      "|       Lord You Know|rap|  Cam'ron|2004| 11882|{\"Cam\\\\'ron\",\"Jue...|[Chorus: Jaheim]\\...| 11|           en|         en|      en|\n",
      "|    Money On My Mind|rap|Lil Wayne|2005|128927|                  {}|[Intro]\\nYeah\\nMo...| 12|           en|         en|      en|\n",
      "|     Think Yall Know|rap| Fabolous|2003|  2530|                  {}|[Verse 1]\\nYou ai...| 13|           en|         en|      en|\n",
      "|              DEvils|rap|    JAY-Z|1996|504959|                  {}|[Produced by DJ P...| 14|           en|         en|      en|\n",
      "|        December 4th|rap|    JAY-Z|2003|283714|                  {}|[Produced by Just...| 15|           en|         en|      en|\n",
      "|        98 Freestyle|rap|    Big L|2000|297788|                  {}|[Verse 1]\\nYo, fu...| 16|           en|         en|      en|\n",
      "|What Happened to ...|rap|  Birdman|2002|100347|            {Clipse}|[Intro: Birdman]\\...| 17|           en|         en|      en|\n",
      "|Its Hot Some Like...|rap|    JAY-Z|1999|103549|                  {}|[Produced by Timb...| 18|           en|         en|      en|\n",
      "| Losing Weight Pt. 2|rap|  Cam'ron|2002| 32712|{\"Cam\\\\'ron\",\"Jue...|[Chorus: Cam'ron]...| 19|           en|         en|      en|\n",
      "|       Its Like That|rap|    JAY-Z|1998| 37692|       {\"Kid Capri\"}|[Intro: Jay-Z, Ki...|123|           en|         en|      en|\n",
      "|  More Gangsta Music|rap|  Cam'ron|2004| 20419|{\"Cam\\\\'ron\",\"Jue...|[Intro: Juelz San...|124|           en|         en|      en|\n",
      "+--------------------+---+---------+----+------+--------------------+--------------------+---+-------------+-----------+--------+\n",
      "only showing top 20 rows\n",
      "\n"
     ]
    }
   ],
   "source": [
    "df.show()"
   ]
  },
  {
   "cell_type": "code",
   "execution_count": 17,
   "metadata": {},
   "outputs": [
    {
     "data": {
      "text/plain": [
       "DataFrame[title: string, tag: string, artist: string, year: string, views: string, features: string, lyrics: string, id: string, language_cld3: string, language_ft: string, language: string]"
      ]
     },
     "execution_count": 17,
     "metadata": {},
     "output_type": "execute_result"
    }
   ],
   "source": [
    "df.fillna(\"language_cld3\", \"language_ft\").show()"
   ]
  },
  {
   "cell_type": "code",
   "execution_count": 8,
   "metadata": {},
   "outputs": [
    {
     "name": "stdout",
     "output_type": "stream",
     "text": [
      "+--------------------+---+---------+----+------+--------------------+--------------------+---+-------------+-----------+--------+\n",
      "|               title|tag|   artist|year| views|            features|              lyrics| id|language_cld3|language_ft|language|\n",
      "+--------------------+---+---------+----+------+--------------------+--------------------+---+-------------+-----------+--------+\n",
      "|           Killa Cam|rap|  Cam'ron|2004|173166|{\"Cam\\\\'ron\",\"Ope...|[Chorus: Opera St...|  1|           en|         en|      en|\n",
      "|          Can I Live|rap|    JAY-Z|1996|468624|                  {}|[Produced by Irv ...|  3|           en|         en|      en|\n",
      "|   Forgive Me Father|rap| Fabolous|2003|  4743|                  {}|Maybe cause I'm e...|  4|           en|         en|      en|\n",
      "|        Down and Out|rap|  Cam'ron|2004|144404|{\"Cam\\\\'ron\",\"Kan...|[Produced by Kany...|  5|           en|         en|      en|\n",
      "|              Fly In|rap|Lil Wayne|2005| 78271|                  {}|[Intro]\\nSo they ...|  6|           en|         en|      en|\n",
      "|      Lollipop Remix|rap|Lil Wayne|2008|580832|{\"Kanye West\",\"St...|[Intro: Lil Wayne...|  7|           en|         en|      en|\n",
      "|          Im Not You|rap|   Clipse|2002| 28645|{Jadakiss,\"Styles...|[Intro: Pusha T]\\...|  8|           en|         en|      en|\n",
      "|         Family Ties|rap|  Cam'ron|2004| 41960|{\"Cam\\\\'ron\",\"Lad...|[Verse 1: Cam'ron...|  9|           en|         en|      en|\n",
      "|   Rockin and Rollin|rap|  Cam'ron|1998|  6399|       {\"Cam\\\\'ron\"}|[Verse 1]\\nAy yo ...| 10|           en|         en|      en|\n",
      "|       Lord You Know|rap|  Cam'ron|2004| 11882|{\"Cam\\\\'ron\",\"Jue...|[Chorus: Jaheim]\\...| 11|           en|         en|      en|\n",
      "|    Money On My Mind|rap|Lil Wayne|2005|128927|                  {}|[Intro]\\nYeah\\nMo...| 12|           en|         en|      en|\n",
      "|     Think Yall Know|rap| Fabolous|2003|  2530|                  {}|[Verse 1]\\nYou ai...| 13|           en|         en|      en|\n",
      "|              DEvils|rap|    JAY-Z|1996|504959|                  {}|[Produced by DJ P...| 14|           en|         en|      en|\n",
      "|        December 4th|rap|    JAY-Z|2003|283714|                  {}|[Produced by Just...| 15|           en|         en|      en|\n",
      "|        98 Freestyle|rap|    Big L|2000|297788|                  {}|[Verse 1]\\nYo, fu...| 16|           en|         en|      en|\n",
      "|What Happened to ...|rap|  Birdman|2002|100347|            {Clipse}|[Intro: Birdman]\\...| 17|           en|         en|      en|\n",
      "|Its Hot Some Like...|rap|    JAY-Z|1999|103549|                  {}|[Produced by Timb...| 18|           en|         en|      en|\n",
      "| Losing Weight Pt. 2|rap|  Cam'ron|2002| 32712|{\"Cam\\\\'ron\",\"Jue...|[Chorus: Cam'ron]...| 19|           en|         en|      en|\n",
      "|       Its Like That|rap|    JAY-Z|1998| 37692|       {\"Kid Capri\"}|[Intro: Jay-Z, Ki...|123|           en|         en|      en|\n",
      "|  More Gangsta Music|rap|  Cam'ron|2004| 20419|{\"Cam\\\\'ron\",\"Jue...|[Intro: Juelz San...|124|           en|         en|      en|\n",
      "+--------------------+---+---------+----+------+--------------------+--------------------+---+-------------+-----------+--------+\n",
      "only showing top 20 rows\n",
      "\n"
     ]
    }
   ],
   "source": [
    "df.na.fill(\"language_cld3\", \"language\").show()"
   ]
  },
  {
   "cell_type": "code",
   "execution_count": 9,
   "metadata": {},
   "outputs": [
    {
     "data": {
      "text/plain": [
       "DataFrame[title: string, tag: string, artist: string, year: string, views: string, features: string, lyrics: string, id: string, language_cld3: string, language_ft: string, language: string]"
      ]
     },
     "execution_count": 9,
     "metadata": {},
     "output_type": "execute_result"
    }
   ],
   "source": [
    "df.na.drop()"
   ]
  },
  {
   "cell_type": "code",
   "execution_count": 15,
   "metadata": {},
   "outputs": [],
   "source": [
    "df_1 = df.drop(\"language_ft\", \"language\")"
   ]
  },
  {
   "cell_type": "code",
   "execution_count": 16,
   "metadata": {},
   "outputs": [
    {
     "name": "stdout",
     "output_type": "stream",
     "text": [
      "+--------------------+---+---------+----+------+--------------------+--------------------+---+-------------+\n",
      "|               title|tag|   artist|year| views|            features|              lyrics| id|language_cld3|\n",
      "+--------------------+---+---------+----+------+--------------------+--------------------+---+-------------+\n",
      "|           Killa Cam|rap|  Cam'ron|2004|173166|{\"Cam\\\\'ron\",\"Ope...|[Chorus: Opera St...|  1|           en|\n",
      "|          Can I Live|rap|    JAY-Z|1996|468624|                  {}|[Produced by Irv ...|  3|           en|\n",
      "|   Forgive Me Father|rap| Fabolous|2003|  4743|                  {}|Maybe cause I'm e...|  4|           en|\n",
      "|        Down and Out|rap|  Cam'ron|2004|144404|{\"Cam\\\\'ron\",\"Kan...|[Produced by Kany...|  5|           en|\n",
      "|              Fly In|rap|Lil Wayne|2005| 78271|                  {}|[Intro]\\nSo they ...|  6|           en|\n",
      "|      Lollipop Remix|rap|Lil Wayne|2008|580832|{\"Kanye West\",\"St...|[Intro: Lil Wayne...|  7|           en|\n",
      "|          Im Not You|rap|   Clipse|2002| 28645|{Jadakiss,\"Styles...|[Intro: Pusha T]\\...|  8|           en|\n",
      "|         Family Ties|rap|  Cam'ron|2004| 41960|{\"Cam\\\\'ron\",\"Lad...|[Verse 1: Cam'ron...|  9|           en|\n",
      "|   Rockin and Rollin|rap|  Cam'ron|1998|  6399|       {\"Cam\\\\'ron\"}|[Verse 1]\\nAy yo ...| 10|           en|\n",
      "|       Lord You Know|rap|  Cam'ron|2004| 11882|{\"Cam\\\\'ron\",\"Jue...|[Chorus: Jaheim]\\...| 11|           en|\n",
      "|    Money On My Mind|rap|Lil Wayne|2005|128927|                  {}|[Intro]\\nYeah\\nMo...| 12|           en|\n",
      "|     Think Yall Know|rap| Fabolous|2003|  2530|                  {}|[Verse 1]\\nYou ai...| 13|           en|\n",
      "|              DEvils|rap|    JAY-Z|1996|504959|                  {}|[Produced by DJ P...| 14|           en|\n",
      "|        December 4th|rap|    JAY-Z|2003|283714|                  {}|[Produced by Just...| 15|           en|\n",
      "|        98 Freestyle|rap|    Big L|2000|297788|                  {}|[Verse 1]\\nYo, fu...| 16|           en|\n",
      "|What Happened to ...|rap|  Birdman|2002|100347|            {Clipse}|[Intro: Birdman]\\...| 17|           en|\n",
      "|Its Hot Some Like...|rap|    JAY-Z|1999|103549|                  {}|[Produced by Timb...| 18|           en|\n",
      "| Losing Weight Pt. 2|rap|  Cam'ron|2002| 32712|{\"Cam\\\\'ron\",\"Jue...|[Chorus: Cam'ron]...| 19|           en|\n",
      "|       Its Like That|rap|    JAY-Z|1998| 37692|       {\"Kid Capri\"}|[Intro: Jay-Z, Ki...|123|           en|\n",
      "|  More Gangsta Music|rap|  Cam'ron|2004| 20419|{\"Cam\\\\'ron\",\"Jue...|[Intro: Juelz San...|124|           en|\n",
      "+--------------------+---+---------+----+------+--------------------+--------------------+---+-------------+\n",
      "only showing top 20 rows\n",
      "\n"
     ]
    }
   ],
   "source": [
    "df_1.show()"
   ]
  },
  {
   "cell_type": "code",
   "execution_count": null,
   "metadata": {},
   "outputs": [],
   "source": []
  },
  {
   "cell_type": "code",
   "execution_count": null,
   "metadata": {},
   "outputs": [],
   "source": []
  },
  {
   "cell_type": "code",
   "execution_count": null,
   "metadata": {},
   "outputs": [],
   "source": []
  },
  {
   "cell_type": "code",
   "execution_count": null,
   "metadata": {},
   "outputs": [],
   "source": []
  },
  {
   "cell_type": "code",
   "execution_count": null,
   "metadata": {},
   "outputs": [],
   "source": []
  },
  {
   "cell_type": "code",
   "execution_count": null,
   "metadata": {},
   "outputs": [],
   "source": []
  },
  {
   "cell_type": "code",
   "execution_count": 19,
   "metadata": {},
   "outputs": [],
   "source": [
    "spark.stop()"
   ]
  },
  {
   "cell_type": "code",
   "execution_count": null,
   "metadata": {},
   "outputs": [],
   "source": []
  }
 ],
 "metadata": {
  "kernelspec": {
   "display_name": "AILyricsGen",
   "language": "python",
   "name": "python3"
  },
  "language_info": {
   "codemirror_mode": {
    "name": "ipython",
    "version": 3
   },
   "file_extension": ".py",
   "mimetype": "text/x-python",
   "name": "python",
   "nbconvert_exporter": "python",
   "pygments_lexer": "ipython3",
   "version": "3.9.18"
  }
 },
 "nbformat": 4,
 "nbformat_minor": 2
}
