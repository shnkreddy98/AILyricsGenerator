{
 "cells": [
  {
   "cell_type": "code",
   "execution_count": 21,
   "metadata": {},
   "outputs": [],
   "source": [
    "import os\n",
    "\n",
    "from pyspark import SparkConf\n",
    "from pyspark.sql import SparkSession"
   ]
  },
  {
   "cell_type": "code",
   "execution_count": 22,
   "metadata": {},
   "outputs": [],
   "source": [
    "access_key = os.getenv(\"AWS_ACCESS_KEY_ID\")\n",
    "secret_key = os.getenv(\"AWS_SECRET_ACCESS_KEY\")\n",
    "\n",
    "s3_url = 's3a://genius-lyrics-dataset/song_lyrics.csv'"
   ]
  },
  {
   "cell_type": "code",
   "execution_count": 23,
   "metadata": {},
   "outputs": [
    {
     "ename": "ConnectionRefusedError",
     "evalue": "[Errno 61] Connection refused",
     "output_type": "error",
     "traceback": [
      "\u001b[0;31m---------------------------------------------------------------------------\u001b[0m",
      "\u001b[0;31mConnectionRefusedError\u001b[0m                    Traceback (most recent call last)",
      "\u001b[1;32m/Users/reddy/SJSU/2nd Sem/DATA228/project/AILyricsGenerator/pySparkworkingfile.ipynb Cell 3\u001b[0m line \u001b[0;36m1\n\u001b[0;32m----> <a href='vscode-notebook-cell:/Users/reddy/SJSU/2nd%20Sem/DATA228/project/AILyricsGenerator/pySparkworkingfile.ipynb#W2sZmlsZQ%3D%3D?line=0'>1</a>\u001b[0m conf \u001b[39m=\u001b[39m SparkConf()\n\u001b[1;32m      <a href='vscode-notebook-cell:/Users/reddy/SJSU/2nd%20Sem/DATA228/project/AILyricsGenerator/pySparkworkingfile.ipynb#W2sZmlsZQ%3D%3D?line=1'>2</a>\u001b[0m conf\u001b[39m.\u001b[39mset(\u001b[39m'\u001b[39m\u001b[39mspark.hadoop.fs.s3a.access.key\u001b[39m\u001b[39m'\u001b[39m,access_key)\n\u001b[1;32m      <a href='vscode-notebook-cell:/Users/reddy/SJSU/2nd%20Sem/DATA228/project/AILyricsGenerator/pySparkworkingfile.ipynb#W2sZmlsZQ%3D%3D?line=2'>3</a>\u001b[0m conf\u001b[39m.\u001b[39mset(\u001b[39m'\u001b[39m\u001b[39mspark.hadoop.fs.s3a.secret.key\u001b[39m\u001b[39m'\u001b[39m, secret_key)\n",
      "File \u001b[0;32m~/opt/anaconda3/envs/AILyricsGen/lib/python3.9/site-packages/pyspark/conf.py:132\u001b[0m, in \u001b[0;36mSparkConf.__init__\u001b[0;34m(self, loadDefaults, _jvm, _jconf)\u001b[0m\n\u001b[1;32m    128\u001b[0m _jvm \u001b[39m=\u001b[39m _jvm \u001b[39mor\u001b[39;00m SparkContext\u001b[39m.\u001b[39m_jvm\n\u001b[1;32m    130\u001b[0m \u001b[39mif\u001b[39;00m _jvm \u001b[39mis\u001b[39;00m \u001b[39mnot\u001b[39;00m \u001b[39mNone\u001b[39;00m:\n\u001b[1;32m    131\u001b[0m     \u001b[39m# JVM is created, so create self._jconf directly through JVM\u001b[39;00m\n\u001b[0;32m--> 132\u001b[0m     \u001b[39mself\u001b[39m\u001b[39m.\u001b[39m_jconf \u001b[39m=\u001b[39m _jvm\u001b[39m.\u001b[39;49mSparkConf(loadDefaults)\n\u001b[1;32m    133\u001b[0m     \u001b[39mself\u001b[39m\u001b[39m.\u001b[39m_conf \u001b[39m=\u001b[39m \u001b[39mNone\u001b[39;00m\n\u001b[1;32m    134\u001b[0m \u001b[39melse\u001b[39;00m:\n\u001b[1;32m    135\u001b[0m     \u001b[39m# JVM is not created, so store data in self._conf first\u001b[39;00m\n",
      "File \u001b[0;32m~/opt/anaconda3/envs/AILyricsGen/lib/python3.9/site-packages/py4j/java_gateway.py:1712\u001b[0m, in \u001b[0;36mJVMView.__getattr__\u001b[0;34m(self, name)\u001b[0m\n\u001b[1;32m   1709\u001b[0m \u001b[39mif\u001b[39;00m name \u001b[39m==\u001b[39m UserHelpAutoCompletion\u001b[39m.\u001b[39mKEY:\n\u001b[1;32m   1710\u001b[0m     \u001b[39mreturn\u001b[39;00m UserHelpAutoCompletion()\n\u001b[0;32m-> 1712\u001b[0m answer \u001b[39m=\u001b[39m \u001b[39mself\u001b[39;49m\u001b[39m.\u001b[39;49m_gateway_client\u001b[39m.\u001b[39;49msend_command(\n\u001b[1;32m   1713\u001b[0m     proto\u001b[39m.\u001b[39;49mREFLECTION_COMMAND_NAME \u001b[39m+\u001b[39;49m\n\u001b[1;32m   1714\u001b[0m     proto\u001b[39m.\u001b[39;49mREFL_GET_UNKNOWN_SUB_COMMAND_NAME \u001b[39m+\u001b[39;49m name \u001b[39m+\u001b[39;49m \u001b[39m\"\u001b[39;49m\u001b[39m\\n\u001b[39;49;00m\u001b[39m\"\u001b[39;49m \u001b[39m+\u001b[39;49m \u001b[39mself\u001b[39;49m\u001b[39m.\u001b[39;49m_id \u001b[39m+\u001b[39;49m\n\u001b[1;32m   1715\u001b[0m     \u001b[39m\"\u001b[39;49m\u001b[39m\\n\u001b[39;49;00m\u001b[39m\"\u001b[39;49m \u001b[39m+\u001b[39;49m proto\u001b[39m.\u001b[39;49mEND_COMMAND_PART)\n\u001b[1;32m   1716\u001b[0m \u001b[39mif\u001b[39;00m answer \u001b[39m==\u001b[39m proto\u001b[39m.\u001b[39mSUCCESS_PACKAGE:\n\u001b[1;32m   1717\u001b[0m     \u001b[39mreturn\u001b[39;00m JavaPackage(name, \u001b[39mself\u001b[39m\u001b[39m.\u001b[39m_gateway_client, jvm_id\u001b[39m=\u001b[39m\u001b[39mself\u001b[39m\u001b[39m.\u001b[39m_id)\n",
      "File \u001b[0;32m~/opt/anaconda3/envs/AILyricsGen/lib/python3.9/site-packages/py4j/java_gateway.py:1036\u001b[0m, in \u001b[0;36mGatewayClient.send_command\u001b[0;34m(self, command, retry, binary)\u001b[0m\n\u001b[1;32m   1015\u001b[0m \u001b[39mdef\u001b[39;00m \u001b[39msend_command\u001b[39m(\u001b[39mself\u001b[39m, command, retry\u001b[39m=\u001b[39m\u001b[39mTrue\u001b[39;00m, binary\u001b[39m=\u001b[39m\u001b[39mFalse\u001b[39;00m):\n\u001b[1;32m   1016\u001b[0m \u001b[39m    \u001b[39m\u001b[39m\"\"\"Sends a command to the JVM. This method is not intended to be\u001b[39;00m\n\u001b[1;32m   1017\u001b[0m \u001b[39m       called directly by Py4J users. It is usually called by\u001b[39;00m\n\u001b[1;32m   1018\u001b[0m \u001b[39m       :class:`JavaMember` instances.\u001b[39;00m\n\u001b[0;32m   (...)\u001b[0m\n\u001b[1;32m   1034\u001b[0m \u001b[39m     if `binary` is `True`.\u001b[39;00m\n\u001b[1;32m   1035\u001b[0m \u001b[39m    \"\"\"\u001b[39;00m\n\u001b[0;32m-> 1036\u001b[0m     connection \u001b[39m=\u001b[39m \u001b[39mself\u001b[39;49m\u001b[39m.\u001b[39;49m_get_connection()\n\u001b[1;32m   1037\u001b[0m     \u001b[39mtry\u001b[39;00m:\n\u001b[1;32m   1038\u001b[0m         response \u001b[39m=\u001b[39m connection\u001b[39m.\u001b[39msend_command(command)\n",
      "File \u001b[0;32m~/opt/anaconda3/envs/AILyricsGen/lib/python3.9/site-packages/py4j/clientserver.py:284\u001b[0m, in \u001b[0;36mJavaClient._get_connection\u001b[0;34m(self)\u001b[0m\n\u001b[1;32m    281\u001b[0m     \u001b[39mpass\u001b[39;00m\n\u001b[1;32m    283\u001b[0m \u001b[39mif\u001b[39;00m connection \u001b[39mis\u001b[39;00m \u001b[39mNone\u001b[39;00m \u001b[39mor\u001b[39;00m connection\u001b[39m.\u001b[39msocket \u001b[39mis\u001b[39;00m \u001b[39mNone\u001b[39;00m:\n\u001b[0;32m--> 284\u001b[0m     connection \u001b[39m=\u001b[39m \u001b[39mself\u001b[39;49m\u001b[39m.\u001b[39;49m_create_new_connection()\n\u001b[1;32m    285\u001b[0m \u001b[39mreturn\u001b[39;00m connection\n",
      "File \u001b[0;32m~/opt/anaconda3/envs/AILyricsGen/lib/python3.9/site-packages/py4j/clientserver.py:291\u001b[0m, in \u001b[0;36mJavaClient._create_new_connection\u001b[0;34m(self)\u001b[0m\n\u001b[1;32m    287\u001b[0m \u001b[39mdef\u001b[39;00m \u001b[39m_create_new_connection\u001b[39m(\u001b[39mself\u001b[39m):\n\u001b[1;32m    288\u001b[0m     connection \u001b[39m=\u001b[39m ClientServerConnection(\n\u001b[1;32m    289\u001b[0m         \u001b[39mself\u001b[39m\u001b[39m.\u001b[39mjava_parameters, \u001b[39mself\u001b[39m\u001b[39m.\u001b[39mpython_parameters,\n\u001b[1;32m    290\u001b[0m         \u001b[39mself\u001b[39m\u001b[39m.\u001b[39mgateway_property, \u001b[39mself\u001b[39m)\n\u001b[0;32m--> 291\u001b[0m     connection\u001b[39m.\u001b[39;49mconnect_to_java_server()\n\u001b[1;32m    292\u001b[0m     \u001b[39mself\u001b[39m\u001b[39m.\u001b[39mset_thread_connection(connection)\n\u001b[1;32m    293\u001b[0m     \u001b[39mreturn\u001b[39;00m connection\n",
      "File \u001b[0;32m~/opt/anaconda3/envs/AILyricsGen/lib/python3.9/site-packages/py4j/clientserver.py:438\u001b[0m, in \u001b[0;36mClientServerConnection.connect_to_java_server\u001b[0;34m(self)\u001b[0m\n\u001b[1;32m    435\u001b[0m \u001b[39mif\u001b[39;00m \u001b[39mself\u001b[39m\u001b[39m.\u001b[39mssl_context:\n\u001b[1;32m    436\u001b[0m     \u001b[39mself\u001b[39m\u001b[39m.\u001b[39msocket \u001b[39m=\u001b[39m \u001b[39mself\u001b[39m\u001b[39m.\u001b[39mssl_context\u001b[39m.\u001b[39mwrap_socket(\n\u001b[1;32m    437\u001b[0m         \u001b[39mself\u001b[39m\u001b[39m.\u001b[39msocket, server_hostname\u001b[39m=\u001b[39m\u001b[39mself\u001b[39m\u001b[39m.\u001b[39mjava_address)\n\u001b[0;32m--> 438\u001b[0m \u001b[39mself\u001b[39;49m\u001b[39m.\u001b[39;49msocket\u001b[39m.\u001b[39;49mconnect((\u001b[39mself\u001b[39;49m\u001b[39m.\u001b[39;49mjava_address, \u001b[39mself\u001b[39;49m\u001b[39m.\u001b[39;49mjava_port))\n\u001b[1;32m    439\u001b[0m \u001b[39mself\u001b[39m\u001b[39m.\u001b[39mstream \u001b[39m=\u001b[39m \u001b[39mself\u001b[39m\u001b[39m.\u001b[39msocket\u001b[39m.\u001b[39mmakefile(\u001b[39m\"\u001b[39m\u001b[39mrb\u001b[39m\u001b[39m\"\u001b[39m)\n\u001b[1;32m    440\u001b[0m \u001b[39mself\u001b[39m\u001b[39m.\u001b[39mis_connected \u001b[39m=\u001b[39m \u001b[39mTrue\u001b[39;00m\n",
      "\u001b[0;31mConnectionRefusedError\u001b[0m: [Errno 61] Connection refused"
     ]
    }
   ],
   "source": [
    "conf = SparkConf()\n",
    "conf.set('spark.hadoop.fs.s3a.access.key',access_key)\n",
    "conf.set('spark.hadoop.fs.s3a.secret.key', secret_key)\n",
    "conf.set('spark.hadoop.fs.s3a.aws.credentials.provider', 'org.apache.hadoop.fs.s3a.SimpleAWSCredentialsProvider')\n",
    "conf.set('spark.jars.packages', 'org.apache.hadoop:hadoop-aws:3.3.4')"
   ]
  },
  {
   "cell_type": "code",
   "execution_count": 4,
   "metadata": {},
   "outputs": [
    {
     "name": "stdout",
     "output_type": "stream",
     "text": [
      ":: loading settings :: url = jar:file:/Users/reddy/opt/anaconda3/envs/AILyricsGen/lib/python3.9/site-packages/pyspark/jars/ivy-2.5.1.jar!/org/apache/ivy/core/settings/ivysettings.xml\n"
     ]
    },
    {
     "name": "stderr",
     "output_type": "stream",
     "text": [
      "Ivy Default Cache set to: /Users/reddy/.ivy2/cache\n",
      "The jars for the packages stored in: /Users/reddy/.ivy2/jars\n",
      "org.apache.hadoop#hadoop-aws added as a dependency\n",
      ":: resolving dependencies :: org.apache.spark#spark-submit-parent-01c887bf-640b-4ffd-9adf-442c89ddae4f;1.0\n",
      "\tconfs: [default]\n",
      "\tfound org.apache.hadoop#hadoop-aws;3.3.4 in central\n",
      "\tfound com.amazonaws#aws-java-sdk-bundle;1.12.262 in central\n",
      "\tfound org.wildfly.openssl#wildfly-openssl;1.0.7.Final in central\n",
      ":: resolution report :: resolve 175ms :: artifacts dl 8ms\n",
      "\t:: modules in use:\n",
      "\tcom.amazonaws#aws-java-sdk-bundle;1.12.262 from central in [default]\n",
      "\torg.apache.hadoop#hadoop-aws;3.3.4 from central in [default]\n",
      "\torg.wildfly.openssl#wildfly-openssl;1.0.7.Final from central in [default]\n",
      "\t---------------------------------------------------------------------\n",
      "\t|                  |            modules            ||   artifacts   |\n",
      "\t|       conf       | number| search|dwnlded|evicted|| number|dwnlded|\n",
      "\t---------------------------------------------------------------------\n",
      "\t|      default     |   3   |   0   |   0   |   0   ||   3   |   0   |\n",
      "\t---------------------------------------------------------------------\n",
      ":: retrieving :: org.apache.spark#spark-submit-parent-01c887bf-640b-4ffd-9adf-442c89ddae4f\n",
      "\tconfs: [default]\n",
      "\t0 artifacts copied, 3 already retrieved (0kB/7ms)\n",
      "23/11/16 21:12:53 WARN NativeCodeLoader: Unable to load native-hadoop library for your platform... using builtin-java classes where applicable\n",
      "Setting default log level to \"WARN\".\n",
      "To adjust logging level use sc.setLogLevel(newLevel). For SparkR, use setLogLevel(newLevel).\n"
     ]
    }
   ],
   "source": [
    "spark = SparkSession.builder.config(conf=conf).getOrCreate()"
   ]
  },
  {
   "cell_type": "code",
   "execution_count": 5,
   "metadata": {},
   "outputs": [
    {
     "name": "stderr",
     "output_type": "stream",
     "text": [
      "23/11/16 21:12:57 WARN MetricsConfig: Cannot locate configuration: tried hadoop-metrics2-s3a-file-system.properties,hadoop-metrics2.properties\n",
      "                                                                                \r"
     ]
    }
   ],
   "source": [
    "df = spark.read.option(\"header\", \"true\") \\\n",
    "        .option(\"multiline\", \"true\") \\\n",
    "            .option(\"quote\", \"\\\"\") \\\n",
    "                .option(\"escape\", \"\\\"\") \\\n",
    "                .csv(s3_url)"
   ]
  },
  {
   "cell_type": "code",
   "execution_count": 6,
   "metadata": {},
   "outputs": [
    {
     "name": "stdout",
     "output_type": "stream",
     "text": [
      "+--------------------+---+---------+----+------+--------------------+--------------------+---+-------------+-----------+--------+\n",
      "|               title|tag|   artist|year| views|            features|              lyrics| id|language_cld3|language_ft|language|\n",
      "+--------------------+---+---------+----+------+--------------------+--------------------+---+-------------+-----------+--------+\n",
      "|           Killa Cam|rap|  Cam'ron|2004|173166|{\"Cam\\\\'ron\",\"Ope...|[Chorus: Opera St...|  1|           en|         en|      en|\n",
      "|          Can I Live|rap|    JAY-Z|1996|468624|                  {}|[Produced by Irv ...|  3|           en|         en|      en|\n",
      "|   Forgive Me Father|rap| Fabolous|2003|  4743|                  {}|Maybe cause I'm e...|  4|           en|         en|      en|\n",
      "|        Down and Out|rap|  Cam'ron|2004|144404|{\"Cam\\\\'ron\",\"Kan...|[Produced by Kany...|  5|           en|         en|      en|\n",
      "|              Fly In|rap|Lil Wayne|2005| 78271|                  {}|[Intro]\\nSo they ...|  6|           en|         en|      en|\n",
      "|      Lollipop Remix|rap|Lil Wayne|2008|580832|{\"Kanye West\",\"St...|[Intro: Lil Wayne...|  7|           en|         en|      en|\n",
      "|          Im Not You|rap|   Clipse|2002| 28645|{Jadakiss,\"Styles...|[Intro: Pusha T]\\...|  8|           en|         en|      en|\n",
      "|         Family Ties|rap|  Cam'ron|2004| 41960|{\"Cam\\\\'ron\",\"Lad...|[Verse 1: Cam'ron...|  9|           en|         en|      en|\n",
      "|   Rockin and Rollin|rap|  Cam'ron|1998|  6399|       {\"Cam\\\\'ron\"}|[Verse 1]\\nAy yo ...| 10|           en|         en|      en|\n",
      "|       Lord You Know|rap|  Cam'ron|2004| 11882|{\"Cam\\\\'ron\",\"Jue...|[Chorus: Jaheim]\\...| 11|           en|         en|      en|\n",
      "|    Money On My Mind|rap|Lil Wayne|2005|128927|                  {}|[Intro]\\nYeah\\nMo...| 12|           en|         en|      en|\n",
      "|     Think Yall Know|rap| Fabolous|2003|  2530|                  {}|[Verse 1]\\nYou ai...| 13|           en|         en|      en|\n",
      "|              DEvils|rap|    JAY-Z|1996|504959|                  {}|[Produced by DJ P...| 14|           en|         en|      en|\n",
      "|        December 4th|rap|    JAY-Z|2003|283714|                  {}|[Produced by Just...| 15|           en|         en|      en|\n",
      "|        98 Freestyle|rap|    Big L|2000|297788|                  {}|[Verse 1]\\nYo, fu...| 16|           en|         en|      en|\n",
      "|What Happened to ...|rap|  Birdman|2002|100347|            {Clipse}|[Intro: Birdman]\\...| 17|           en|         en|      en|\n",
      "|Its Hot Some Like...|rap|    JAY-Z|1999|103549|                  {}|[Produced by Timb...| 18|           en|         en|      en|\n",
      "| Losing Weight Pt. 2|rap|  Cam'ron|2002| 32712|{\"Cam\\\\'ron\",\"Jue...|[Chorus: Cam'ron]...| 19|           en|         en|      en|\n",
      "|       Its Like That|rap|    JAY-Z|1998| 37692|       {\"Kid Capri\"}|[Intro: Jay-Z, Ki...|123|           en|         en|      en|\n",
      "|  More Gangsta Music|rap|  Cam'ron|2004| 20419|{\"Cam\\\\'ron\",\"Jue...|[Intro: Juelz San...|124|           en|         en|      en|\n",
      "+--------------------+---+---------+----+------+--------------------+--------------------+---+-------------+-----------+--------+\n",
      "only showing top 20 rows\n",
      "\n"
     ]
    }
   ],
   "source": [
    "df.show()"
   ]
  },
  {
   "cell_type": "code",
   "execution_count": 7,
   "metadata": {},
   "outputs": [
    {
     "name": "stdout",
     "output_type": "stream",
     "text": [
      "+--------------------+---+---------+----+------+--------------------+--------------------+---+-------------+-----------+--------+\n",
      "|               title|tag|   artist|year| views|            features|              lyrics| id|language_cld3|language_ft|language|\n",
      "+--------------------+---+---------+----+------+--------------------+--------------------+---+-------------+-----------+--------+\n",
      "|           Killa Cam|rap|  Cam'ron|2004|173166|{\"Cam\\\\'ron\",\"Ope...|[Chorus: Opera St...|  1|           en|         en|      en|\n",
      "|          Can I Live|rap|    JAY-Z|1996|468624|                  {}|[Produced by Irv ...|  3|           en|         en|      en|\n",
      "|   Forgive Me Father|rap| Fabolous|2003|  4743|                  {}|Maybe cause I'm e...|  4|           en|         en|      en|\n",
      "|        Down and Out|rap|  Cam'ron|2004|144404|{\"Cam\\\\'ron\",\"Kan...|[Produced by Kany...|  5|           en|         en|      en|\n",
      "|              Fly In|rap|Lil Wayne|2005| 78271|                  {}|[Intro]\\nSo they ...|  6|           en|         en|      en|\n",
      "|      Lollipop Remix|rap|Lil Wayne|2008|580832|{\"Kanye West\",\"St...|[Intro: Lil Wayne...|  7|           en|         en|      en|\n",
      "|          Im Not You|rap|   Clipse|2002| 28645|{Jadakiss,\"Styles...|[Intro: Pusha T]\\...|  8|           en|         en|      en|\n",
      "|         Family Ties|rap|  Cam'ron|2004| 41960|{\"Cam\\\\'ron\",\"Lad...|[Verse 1: Cam'ron...|  9|           en|         en|      en|\n",
      "|   Rockin and Rollin|rap|  Cam'ron|1998|  6399|       {\"Cam\\\\'ron\"}|[Verse 1]\\nAy yo ...| 10|           en|         en|      en|\n",
      "|       Lord You Know|rap|  Cam'ron|2004| 11882|{\"Cam\\\\'ron\",\"Jue...|[Chorus: Jaheim]\\...| 11|           en|         en|      en|\n",
      "|    Money On My Mind|rap|Lil Wayne|2005|128927|                  {}|[Intro]\\nYeah\\nMo...| 12|           en|         en|      en|\n",
      "|     Think Yall Know|rap| Fabolous|2003|  2530|                  {}|[Verse 1]\\nYou ai...| 13|           en|         en|      en|\n",
      "|              DEvils|rap|    JAY-Z|1996|504959|                  {}|[Produced by DJ P...| 14|           en|         en|      en|\n",
      "|        December 4th|rap|    JAY-Z|2003|283714|                  {}|[Produced by Just...| 15|           en|         en|      en|\n",
      "|        98 Freestyle|rap|    Big L|2000|297788|                  {}|[Verse 1]\\nYo, fu...| 16|           en|         en|      en|\n",
      "|What Happened to ...|rap|  Birdman|2002|100347|            {Clipse}|[Intro: Birdman]\\...| 17|           en|         en|      en|\n",
      "|Its Hot Some Like...|rap|    JAY-Z|1999|103549|                  {}|[Produced by Timb...| 18|           en|         en|      en|\n",
      "| Losing Weight Pt. 2|rap|  Cam'ron|2002| 32712|{\"Cam\\\\'ron\",\"Jue...|[Chorus: Cam'ron]...| 19|           en|         en|      en|\n",
      "|       Its Like That|rap|    JAY-Z|1998| 37692|       {\"Kid Capri\"}|[Intro: Jay-Z, Ki...|123|           en|         en|      en|\n",
      "|  More Gangsta Music|rap|  Cam'ron|2004| 20419|{\"Cam\\\\'ron\",\"Jue...|[Intro: Juelz San...|124|           en|         en|      en|\n",
      "+--------------------+---+---------+----+------+--------------------+--------------------+---+-------------+-----------+--------+\n",
      "only showing top 20 rows\n",
      "\n"
     ]
    }
   ],
   "source": [
    "df.na.fill(\"language_cld3\", \"language_ft\").show()"
   ]
  },
  {
   "cell_type": "code",
   "execution_count": 8,
   "metadata": {},
   "outputs": [
    {
     "name": "stderr",
     "output_type": "stream",
     "text": [
      "[Stage 3:>                                                          (0 + 1) / 1]\r"
     ]
    },
    {
     "name": "stdout",
     "output_type": "stream",
     "text": [
      "+--------------------+---+---------+----+------+--------------------+--------------------+---+-------------+-----------+--------+\n",
      "|               title|tag|   artist|year| views|            features|              lyrics| id|language_cld3|language_ft|language|\n",
      "+--------------------+---+---------+----+------+--------------------+--------------------+---+-------------+-----------+--------+\n",
      "|           Killa Cam|rap|  Cam'ron|2004|173166|{\"Cam\\\\'ron\",\"Ope...|[Chorus: Opera St...|  1|           en|         en|      en|\n",
      "|          Can I Live|rap|    JAY-Z|1996|468624|                  {}|[Produced by Irv ...|  3|           en|         en|      en|\n",
      "|   Forgive Me Father|rap| Fabolous|2003|  4743|                  {}|Maybe cause I'm e...|  4|           en|         en|      en|\n",
      "|        Down and Out|rap|  Cam'ron|2004|144404|{\"Cam\\\\'ron\",\"Kan...|[Produced by Kany...|  5|           en|         en|      en|\n",
      "|              Fly In|rap|Lil Wayne|2005| 78271|                  {}|[Intro]\\nSo they ...|  6|           en|         en|      en|\n",
      "|      Lollipop Remix|rap|Lil Wayne|2008|580832|{\"Kanye West\",\"St...|[Intro: Lil Wayne...|  7|           en|         en|      en|\n",
      "|          Im Not You|rap|   Clipse|2002| 28645|{Jadakiss,\"Styles...|[Intro: Pusha T]\\...|  8|           en|         en|      en|\n",
      "|         Family Ties|rap|  Cam'ron|2004| 41960|{\"Cam\\\\'ron\",\"Lad...|[Verse 1: Cam'ron...|  9|           en|         en|      en|\n",
      "|   Rockin and Rollin|rap|  Cam'ron|1998|  6399|       {\"Cam\\\\'ron\"}|[Verse 1]\\nAy yo ...| 10|           en|         en|      en|\n",
      "|       Lord You Know|rap|  Cam'ron|2004| 11882|{\"Cam\\\\'ron\",\"Jue...|[Chorus: Jaheim]\\...| 11|           en|         en|      en|\n",
      "|    Money On My Mind|rap|Lil Wayne|2005|128927|                  {}|[Intro]\\nYeah\\nMo...| 12|           en|         en|      en|\n",
      "|     Think Yall Know|rap| Fabolous|2003|  2530|                  {}|[Verse 1]\\nYou ai...| 13|           en|         en|      en|\n",
      "|              DEvils|rap|    JAY-Z|1996|504959|                  {}|[Produced by DJ P...| 14|           en|         en|      en|\n",
      "|        December 4th|rap|    JAY-Z|2003|283714|                  {}|[Produced by Just...| 15|           en|         en|      en|\n",
      "|        98 Freestyle|rap|    Big L|2000|297788|                  {}|[Verse 1]\\nYo, fu...| 16|           en|         en|      en|\n",
      "|What Happened to ...|rap|  Birdman|2002|100347|            {Clipse}|[Intro: Birdman]\\...| 17|           en|         en|      en|\n",
      "|Its Hot Some Like...|rap|    JAY-Z|1999|103549|                  {}|[Produced by Timb...| 18|           en|         en|      en|\n",
      "| Losing Weight Pt. 2|rap|  Cam'ron|2002| 32712|{\"Cam\\\\'ron\",\"Jue...|[Chorus: Cam'ron]...| 19|           en|         en|      en|\n",
      "|       Its Like That|rap|    JAY-Z|1998| 37692|       {\"Kid Capri\"}|[Intro: Jay-Z, Ki...|123|           en|         en|      en|\n",
      "|  More Gangsta Music|rap|  Cam'ron|2004| 20419|{\"Cam\\\\'ron\",\"Jue...|[Intro: Juelz San...|124|           en|         en|      en|\n",
      "+--------------------+---+---------+----+------+--------------------+--------------------+---+-------------+-----------+--------+\n",
      "only showing top 20 rows\n",
      "\n"
     ]
    },
    {
     "name": "stderr",
     "output_type": "stream",
     "text": [
      "                                                                                \r"
     ]
    }
   ],
   "source": [
    "df.na.fill(\"language_cld3\", \"language\").show()"
   ]
  },
  {
   "cell_type": "code",
   "execution_count": 9,
   "metadata": {},
   "outputs": [
    {
     "data": {
      "text/plain": [
       "DataFrame[title: string, tag: string, artist: string, year: string, views: string, features: string, lyrics: string, id: string, language_cld3: string, language_ft: string, language: string]"
      ]
     },
     "execution_count": 9,
     "metadata": {},
     "output_type": "execute_result"
    }
   ],
   "source": [
    "df.na.drop()"
   ]
  },
  {
   "cell_type": "code",
   "execution_count": 16,
   "metadata": {},
   "outputs": [
    {
     "ename": "ConnectionRefusedError",
     "evalue": "[Errno 61] Connection refused",
     "output_type": "error",
     "traceback": [
      "\u001b[0;31m---------------------------------------------------------------------------\u001b[0m",
      "\u001b[0;31mConnectionRefusedError\u001b[0m                    Traceback (most recent call last)",
      "\u001b[1;32m/Users/reddy/SJSU/2nd Sem/DATA228/project/AILyricsGenerator/pySparkworkingfile.ipynb Cell 10\u001b[0m line \u001b[0;36m1\n\u001b[0;32m----> <a href='vscode-notebook-cell:/Users/reddy/SJSU/2nd%20Sem/DATA228/project/AILyricsGenerator/pySparkworkingfile.ipynb#X24sZmlsZQ%3D%3D?line=0'>1</a>\u001b[0m df\u001b[39m.\u001b[39;49mdrop(\u001b[39m\"\u001b[39;49m\u001b[39mlanguage_ft\u001b[39;49m\u001b[39m\"\u001b[39;49m)\n",
      "File \u001b[0;32m~/opt/anaconda3/envs/AILyricsGen/lib/python3.9/site-packages/pyspark/sql/dataframe.py:5443\u001b[0m, in \u001b[0;36mDataFrame.drop\u001b[0;34m(self, *cols)\u001b[0m\n\u001b[1;32m   5441\u001b[0m     jdf \u001b[39m=\u001b[39m jdf\u001b[39m.\u001b[39mdrop(first_column, \u001b[39mself\u001b[39m\u001b[39m.\u001b[39m_jseq(remaining_columns))\n\u001b[1;32m   5442\u001b[0m \u001b[39mif\u001b[39;00m \u001b[39mlen\u001b[39m(column_names) \u001b[39m>\u001b[39m \u001b[39m0\u001b[39m:\n\u001b[0;32m-> 5443\u001b[0m     jdf \u001b[39m=\u001b[39m jdf\u001b[39m.\u001b[39mdrop(\u001b[39mself\u001b[39;49m\u001b[39m.\u001b[39;49m_jseq(column_names))\n\u001b[1;32m   5445\u001b[0m \u001b[39mreturn\u001b[39;00m DataFrame(jdf, \u001b[39mself\u001b[39m\u001b[39m.\u001b[39msparkSession)\n",
      "File \u001b[0;32m~/opt/anaconda3/envs/AILyricsGen/lib/python3.9/site-packages/pyspark/sql/dataframe.py:2747\u001b[0m, in \u001b[0;36mDataFrame._jseq\u001b[0;34m(self, cols, converter)\u001b[0m\n\u001b[1;32m   2741\u001b[0m \u001b[39mdef\u001b[39;00m \u001b[39m_jseq\u001b[39m(\n\u001b[1;32m   2742\u001b[0m     \u001b[39mself\u001b[39m,\n\u001b[1;32m   2743\u001b[0m     cols: Sequence,\n\u001b[1;32m   2744\u001b[0m     converter: Optional[Callable[\u001b[39m.\u001b[39m\u001b[39m.\u001b[39m\u001b[39m.\u001b[39m, Union[\u001b[39m\"\u001b[39m\u001b[39mPrimitiveType\u001b[39m\u001b[39m\"\u001b[39m, JavaObject]]] \u001b[39m=\u001b[39m \u001b[39mNone\u001b[39;00m,\n\u001b[1;32m   2745\u001b[0m ) \u001b[39m-\u001b[39m\u001b[39m>\u001b[39m JavaObject:\n\u001b[1;32m   2746\u001b[0m \u001b[39m    \u001b[39m\u001b[39m\"\"\"Return a JVM Seq of Columns from a list of Column or names\"\"\"\u001b[39;00m\n\u001b[0;32m-> 2747\u001b[0m     \u001b[39mreturn\u001b[39;00m _to_seq(\u001b[39mself\u001b[39;49m\u001b[39m.\u001b[39;49msparkSession\u001b[39m.\u001b[39;49m_sc, cols, converter)\n",
      "File \u001b[0;32m~/opt/anaconda3/envs/AILyricsGen/lib/python3.9/site-packages/pyspark/sql/column.py:90\u001b[0m, in \u001b[0;36m_to_seq\u001b[0;34m(sc, cols, converter)\u001b[0m\n\u001b[1;32m     88\u001b[0m     cols \u001b[39m=\u001b[39m [converter(c) \u001b[39mfor\u001b[39;00m c \u001b[39min\u001b[39;00m cols]\n\u001b[1;32m     89\u001b[0m \u001b[39massert\u001b[39;00m sc\u001b[39m.\u001b[39m_jvm \u001b[39mis\u001b[39;00m \u001b[39mnot\u001b[39;00m \u001b[39mNone\u001b[39;00m\n\u001b[0;32m---> 90\u001b[0m \u001b[39mreturn\u001b[39;00m sc\u001b[39m.\u001b[39;49m_jvm\u001b[39m.\u001b[39;49mPythonUtils\u001b[39m.\u001b[39mtoSeq(cols)\n",
      "File \u001b[0;32m~/opt/anaconda3/envs/AILyricsGen/lib/python3.9/site-packages/py4j/java_gateway.py:1712\u001b[0m, in \u001b[0;36mJVMView.__getattr__\u001b[0;34m(self, name)\u001b[0m\n\u001b[1;32m   1709\u001b[0m \u001b[39mif\u001b[39;00m name \u001b[39m==\u001b[39m UserHelpAutoCompletion\u001b[39m.\u001b[39mKEY:\n\u001b[1;32m   1710\u001b[0m     \u001b[39mreturn\u001b[39;00m UserHelpAutoCompletion()\n\u001b[0;32m-> 1712\u001b[0m answer \u001b[39m=\u001b[39m \u001b[39mself\u001b[39;49m\u001b[39m.\u001b[39;49m_gateway_client\u001b[39m.\u001b[39;49msend_command(\n\u001b[1;32m   1713\u001b[0m     proto\u001b[39m.\u001b[39;49mREFLECTION_COMMAND_NAME \u001b[39m+\u001b[39;49m\n\u001b[1;32m   1714\u001b[0m     proto\u001b[39m.\u001b[39;49mREFL_GET_UNKNOWN_SUB_COMMAND_NAME \u001b[39m+\u001b[39;49m name \u001b[39m+\u001b[39;49m \u001b[39m\"\u001b[39;49m\u001b[39m\\n\u001b[39;49;00m\u001b[39m\"\u001b[39;49m \u001b[39m+\u001b[39;49m \u001b[39mself\u001b[39;49m\u001b[39m.\u001b[39;49m_id \u001b[39m+\u001b[39;49m\n\u001b[1;32m   1715\u001b[0m     \u001b[39m\"\u001b[39;49m\u001b[39m\\n\u001b[39;49;00m\u001b[39m\"\u001b[39;49m \u001b[39m+\u001b[39;49m proto\u001b[39m.\u001b[39;49mEND_COMMAND_PART)\n\u001b[1;32m   1716\u001b[0m \u001b[39mif\u001b[39;00m answer \u001b[39m==\u001b[39m proto\u001b[39m.\u001b[39mSUCCESS_PACKAGE:\n\u001b[1;32m   1717\u001b[0m     \u001b[39mreturn\u001b[39;00m JavaPackage(name, \u001b[39mself\u001b[39m\u001b[39m.\u001b[39m_gateway_client, jvm_id\u001b[39m=\u001b[39m\u001b[39mself\u001b[39m\u001b[39m.\u001b[39m_id)\n",
      "File \u001b[0;32m~/opt/anaconda3/envs/AILyricsGen/lib/python3.9/site-packages/py4j/java_gateway.py:1036\u001b[0m, in \u001b[0;36mGatewayClient.send_command\u001b[0;34m(self, command, retry, binary)\u001b[0m\n\u001b[1;32m   1015\u001b[0m \u001b[39mdef\u001b[39;00m \u001b[39msend_command\u001b[39m(\u001b[39mself\u001b[39m, command, retry\u001b[39m=\u001b[39m\u001b[39mTrue\u001b[39;00m, binary\u001b[39m=\u001b[39m\u001b[39mFalse\u001b[39;00m):\n\u001b[1;32m   1016\u001b[0m \u001b[39m    \u001b[39m\u001b[39m\"\"\"Sends a command to the JVM. This method is not intended to be\u001b[39;00m\n\u001b[1;32m   1017\u001b[0m \u001b[39m       called directly by Py4J users. It is usually called by\u001b[39;00m\n\u001b[1;32m   1018\u001b[0m \u001b[39m       :class:`JavaMember` instances.\u001b[39;00m\n\u001b[0;32m   (...)\u001b[0m\n\u001b[1;32m   1034\u001b[0m \u001b[39m     if `binary` is `True`.\u001b[39;00m\n\u001b[1;32m   1035\u001b[0m \u001b[39m    \"\"\"\u001b[39;00m\n\u001b[0;32m-> 1036\u001b[0m     connection \u001b[39m=\u001b[39m \u001b[39mself\u001b[39;49m\u001b[39m.\u001b[39;49m_get_connection()\n\u001b[1;32m   1037\u001b[0m     \u001b[39mtry\u001b[39;00m:\n\u001b[1;32m   1038\u001b[0m         response \u001b[39m=\u001b[39m connection\u001b[39m.\u001b[39msend_command(command)\n",
      "File \u001b[0;32m~/opt/anaconda3/envs/AILyricsGen/lib/python3.9/site-packages/py4j/clientserver.py:284\u001b[0m, in \u001b[0;36mJavaClient._get_connection\u001b[0;34m(self)\u001b[0m\n\u001b[1;32m    281\u001b[0m     \u001b[39mpass\u001b[39;00m\n\u001b[1;32m    283\u001b[0m \u001b[39mif\u001b[39;00m connection \u001b[39mis\u001b[39;00m \u001b[39mNone\u001b[39;00m \u001b[39mor\u001b[39;00m connection\u001b[39m.\u001b[39msocket \u001b[39mis\u001b[39;00m \u001b[39mNone\u001b[39;00m:\n\u001b[0;32m--> 284\u001b[0m     connection \u001b[39m=\u001b[39m \u001b[39mself\u001b[39;49m\u001b[39m.\u001b[39;49m_create_new_connection()\n\u001b[1;32m    285\u001b[0m \u001b[39mreturn\u001b[39;00m connection\n",
      "File \u001b[0;32m~/opt/anaconda3/envs/AILyricsGen/lib/python3.9/site-packages/py4j/clientserver.py:291\u001b[0m, in \u001b[0;36mJavaClient._create_new_connection\u001b[0;34m(self)\u001b[0m\n\u001b[1;32m    287\u001b[0m \u001b[39mdef\u001b[39;00m \u001b[39m_create_new_connection\u001b[39m(\u001b[39mself\u001b[39m):\n\u001b[1;32m    288\u001b[0m     connection \u001b[39m=\u001b[39m ClientServerConnection(\n\u001b[1;32m    289\u001b[0m         \u001b[39mself\u001b[39m\u001b[39m.\u001b[39mjava_parameters, \u001b[39mself\u001b[39m\u001b[39m.\u001b[39mpython_parameters,\n\u001b[1;32m    290\u001b[0m         \u001b[39mself\u001b[39m\u001b[39m.\u001b[39mgateway_property, \u001b[39mself\u001b[39m)\n\u001b[0;32m--> 291\u001b[0m     connection\u001b[39m.\u001b[39;49mconnect_to_java_server()\n\u001b[1;32m    292\u001b[0m     \u001b[39mself\u001b[39m\u001b[39m.\u001b[39mset_thread_connection(connection)\n\u001b[1;32m    293\u001b[0m     \u001b[39mreturn\u001b[39;00m connection\n",
      "File \u001b[0;32m~/opt/anaconda3/envs/AILyricsGen/lib/python3.9/site-packages/py4j/clientserver.py:438\u001b[0m, in \u001b[0;36mClientServerConnection.connect_to_java_server\u001b[0;34m(self)\u001b[0m\n\u001b[1;32m    435\u001b[0m \u001b[39mif\u001b[39;00m \u001b[39mself\u001b[39m\u001b[39m.\u001b[39mssl_context:\n\u001b[1;32m    436\u001b[0m     \u001b[39mself\u001b[39m\u001b[39m.\u001b[39msocket \u001b[39m=\u001b[39m \u001b[39mself\u001b[39m\u001b[39m.\u001b[39mssl_context\u001b[39m.\u001b[39mwrap_socket(\n\u001b[1;32m    437\u001b[0m         \u001b[39mself\u001b[39m\u001b[39m.\u001b[39msocket, server_hostname\u001b[39m=\u001b[39m\u001b[39mself\u001b[39m\u001b[39m.\u001b[39mjava_address)\n\u001b[0;32m--> 438\u001b[0m \u001b[39mself\u001b[39;49m\u001b[39m.\u001b[39;49msocket\u001b[39m.\u001b[39;49mconnect((\u001b[39mself\u001b[39;49m\u001b[39m.\u001b[39;49mjava_address, \u001b[39mself\u001b[39;49m\u001b[39m.\u001b[39;49mjava_port))\n\u001b[1;32m    439\u001b[0m \u001b[39mself\u001b[39m\u001b[39m.\u001b[39mstream \u001b[39m=\u001b[39m \u001b[39mself\u001b[39m\u001b[39m.\u001b[39msocket\u001b[39m.\u001b[39mmakefile(\u001b[39m\"\u001b[39m\u001b[39mrb\u001b[39m\u001b[39m\"\u001b[39m)\n\u001b[1;32m    440\u001b[0m \u001b[39mself\u001b[39m\u001b[39m.\u001b[39mis_connected \u001b[39m=\u001b[39m \u001b[39mTrue\u001b[39;00m\n",
      "\u001b[0;31mConnectionRefusedError\u001b[0m: [Errno 61] Connection refused"
     ]
    }
   ],
   "source": [
    "df.drop(\"language_ft\")"
   ]
  },
  {
   "cell_type": "code",
   "execution_count": 14,
   "metadata": {},
   "outputs": [
    {
     "name": "stdout",
     "output_type": "stream",
     "text": [
      "root\n",
      " |-- title: string (nullable = true)\n",
      " |-- tag: string (nullable = true)\n",
      " |-- artist: string (nullable = true)\n",
      " |-- year: string (nullable = true)\n",
      " |-- views: string (nullable = true)\n",
      " |-- features: string (nullable = true)\n",
      " |-- lyrics: string (nullable = true)\n",
      " |-- id: string (nullable = true)\n",
      " |-- language_cld3: string (nullable = true)\n",
      " |-- language_ft: string (nullable = true)\n",
      " |-- language: string (nullable = true)\n",
      "\n"
     ]
    }
   ],
   "source": [
    "df.printSchema()"
   ]
  },
  {
   "cell_type": "code",
   "execution_count": null,
   "metadata": {},
   "outputs": [],
   "source": []
  },
  {
   "cell_type": "code",
   "execution_count": null,
   "metadata": {},
   "outputs": [],
   "source": []
  },
  {
   "cell_type": "code",
   "execution_count": null,
   "metadata": {},
   "outputs": [],
   "source": []
  },
  {
   "cell_type": "code",
   "execution_count": null,
   "metadata": {},
   "outputs": [],
   "source": []
  },
  {
   "cell_type": "code",
   "execution_count": null,
   "metadata": {},
   "outputs": [],
   "source": []
  },
  {
   "cell_type": "code",
   "execution_count": null,
   "metadata": {},
   "outputs": [],
   "source": []
  },
  {
   "cell_type": "code",
   "execution_count": 24,
   "metadata": {},
   "outputs": [
    {
     "ename": "ConnectionRefusedError",
     "evalue": "[Errno 61] Connection refused",
     "output_type": "error",
     "traceback": [
      "\u001b[0;31m---------------------------------------------------------------------------\u001b[0m",
      "\u001b[0;31mConnectionRefusedError\u001b[0m                    Traceback (most recent call last)",
      "\u001b[1;32m/Users/reddy/SJSU/2nd Sem/DATA228/project/AILyricsGenerator/pySparkworkingfile.ipynb Cell 18\u001b[0m line \u001b[0;36m1\n\u001b[0;32m----> <a href='vscode-notebook-cell:/Users/reddy/SJSU/2nd%20Sem/DATA228/project/AILyricsGenerator/pySparkworkingfile.ipynb#X15sZmlsZQ%3D%3D?line=0'>1</a>\u001b[0m spark\u001b[39m.\u001b[39;49mstop()\n",
      "File \u001b[0;32m~/opt/anaconda3/envs/AILyricsGen/lib/python3.9/site-packages/pyspark/sql/session.py:1799\u001b[0m, in \u001b[0;36mSparkSession.stop\u001b[0;34m(self)\u001b[0m\n\u001b[1;32m   1797\u001b[0m \u001b[39m# We should clean the default session up. See SPARK-23228.\u001b[39;00m\n\u001b[1;32m   1798\u001b[0m \u001b[39massert\u001b[39;00m \u001b[39mself\u001b[39m\u001b[39m.\u001b[39m_jvm \u001b[39mis\u001b[39;00m \u001b[39mnot\u001b[39;00m \u001b[39mNone\u001b[39;00m\n\u001b[0;32m-> 1799\u001b[0m \u001b[39mself\u001b[39;49m\u001b[39m.\u001b[39;49m_jvm\u001b[39m.\u001b[39;49mSparkSession\u001b[39m.\u001b[39mclearDefaultSession()\n\u001b[1;32m   1800\u001b[0m \u001b[39mself\u001b[39m\u001b[39m.\u001b[39m_jvm\u001b[39m.\u001b[39mSparkSession\u001b[39m.\u001b[39mclearActiveSession()\n\u001b[1;32m   1801\u001b[0m SparkSession\u001b[39m.\u001b[39m_instantiatedSession \u001b[39m=\u001b[39m \u001b[39mNone\u001b[39;00m\n",
      "File \u001b[0;32m~/opt/anaconda3/envs/AILyricsGen/lib/python3.9/site-packages/py4j/java_gateway.py:1712\u001b[0m, in \u001b[0;36mJVMView.__getattr__\u001b[0;34m(self, name)\u001b[0m\n\u001b[1;32m   1709\u001b[0m \u001b[39mif\u001b[39;00m name \u001b[39m==\u001b[39m UserHelpAutoCompletion\u001b[39m.\u001b[39mKEY:\n\u001b[1;32m   1710\u001b[0m     \u001b[39mreturn\u001b[39;00m UserHelpAutoCompletion()\n\u001b[0;32m-> 1712\u001b[0m answer \u001b[39m=\u001b[39m \u001b[39mself\u001b[39;49m\u001b[39m.\u001b[39;49m_gateway_client\u001b[39m.\u001b[39;49msend_command(\n\u001b[1;32m   1713\u001b[0m     proto\u001b[39m.\u001b[39;49mREFLECTION_COMMAND_NAME \u001b[39m+\u001b[39;49m\n\u001b[1;32m   1714\u001b[0m     proto\u001b[39m.\u001b[39;49mREFL_GET_UNKNOWN_SUB_COMMAND_NAME \u001b[39m+\u001b[39;49m name \u001b[39m+\u001b[39;49m \u001b[39m\"\u001b[39;49m\u001b[39m\\n\u001b[39;49;00m\u001b[39m\"\u001b[39;49m \u001b[39m+\u001b[39;49m \u001b[39mself\u001b[39;49m\u001b[39m.\u001b[39;49m_id \u001b[39m+\u001b[39;49m\n\u001b[1;32m   1715\u001b[0m     \u001b[39m\"\u001b[39;49m\u001b[39m\\n\u001b[39;49;00m\u001b[39m\"\u001b[39;49m \u001b[39m+\u001b[39;49m proto\u001b[39m.\u001b[39;49mEND_COMMAND_PART)\n\u001b[1;32m   1716\u001b[0m \u001b[39mif\u001b[39;00m answer \u001b[39m==\u001b[39m proto\u001b[39m.\u001b[39mSUCCESS_PACKAGE:\n\u001b[1;32m   1717\u001b[0m     \u001b[39mreturn\u001b[39;00m JavaPackage(name, \u001b[39mself\u001b[39m\u001b[39m.\u001b[39m_gateway_client, jvm_id\u001b[39m=\u001b[39m\u001b[39mself\u001b[39m\u001b[39m.\u001b[39m_id)\n",
      "File \u001b[0;32m~/opt/anaconda3/envs/AILyricsGen/lib/python3.9/site-packages/py4j/java_gateway.py:1036\u001b[0m, in \u001b[0;36mGatewayClient.send_command\u001b[0;34m(self, command, retry, binary)\u001b[0m\n\u001b[1;32m   1015\u001b[0m \u001b[39mdef\u001b[39;00m \u001b[39msend_command\u001b[39m(\u001b[39mself\u001b[39m, command, retry\u001b[39m=\u001b[39m\u001b[39mTrue\u001b[39;00m, binary\u001b[39m=\u001b[39m\u001b[39mFalse\u001b[39;00m):\n\u001b[1;32m   1016\u001b[0m \u001b[39m    \u001b[39m\u001b[39m\"\"\"Sends a command to the JVM. This method is not intended to be\u001b[39;00m\n\u001b[1;32m   1017\u001b[0m \u001b[39m       called directly by Py4J users. It is usually called by\u001b[39;00m\n\u001b[1;32m   1018\u001b[0m \u001b[39m       :class:`JavaMember` instances.\u001b[39;00m\n\u001b[0;32m   (...)\u001b[0m\n\u001b[1;32m   1034\u001b[0m \u001b[39m     if `binary` is `True`.\u001b[39;00m\n\u001b[1;32m   1035\u001b[0m \u001b[39m    \"\"\"\u001b[39;00m\n\u001b[0;32m-> 1036\u001b[0m     connection \u001b[39m=\u001b[39m \u001b[39mself\u001b[39;49m\u001b[39m.\u001b[39;49m_get_connection()\n\u001b[1;32m   1037\u001b[0m     \u001b[39mtry\u001b[39;00m:\n\u001b[1;32m   1038\u001b[0m         response \u001b[39m=\u001b[39m connection\u001b[39m.\u001b[39msend_command(command)\n",
      "File \u001b[0;32m~/opt/anaconda3/envs/AILyricsGen/lib/python3.9/site-packages/py4j/clientserver.py:284\u001b[0m, in \u001b[0;36mJavaClient._get_connection\u001b[0;34m(self)\u001b[0m\n\u001b[1;32m    281\u001b[0m     \u001b[39mpass\u001b[39;00m\n\u001b[1;32m    283\u001b[0m \u001b[39mif\u001b[39;00m connection \u001b[39mis\u001b[39;00m \u001b[39mNone\u001b[39;00m \u001b[39mor\u001b[39;00m connection\u001b[39m.\u001b[39msocket \u001b[39mis\u001b[39;00m \u001b[39mNone\u001b[39;00m:\n\u001b[0;32m--> 284\u001b[0m     connection \u001b[39m=\u001b[39m \u001b[39mself\u001b[39;49m\u001b[39m.\u001b[39;49m_create_new_connection()\n\u001b[1;32m    285\u001b[0m \u001b[39mreturn\u001b[39;00m connection\n",
      "File \u001b[0;32m~/opt/anaconda3/envs/AILyricsGen/lib/python3.9/site-packages/py4j/clientserver.py:291\u001b[0m, in \u001b[0;36mJavaClient._create_new_connection\u001b[0;34m(self)\u001b[0m\n\u001b[1;32m    287\u001b[0m \u001b[39mdef\u001b[39;00m \u001b[39m_create_new_connection\u001b[39m(\u001b[39mself\u001b[39m):\n\u001b[1;32m    288\u001b[0m     connection \u001b[39m=\u001b[39m ClientServerConnection(\n\u001b[1;32m    289\u001b[0m         \u001b[39mself\u001b[39m\u001b[39m.\u001b[39mjava_parameters, \u001b[39mself\u001b[39m\u001b[39m.\u001b[39mpython_parameters,\n\u001b[1;32m    290\u001b[0m         \u001b[39mself\u001b[39m\u001b[39m.\u001b[39mgateway_property, \u001b[39mself\u001b[39m)\n\u001b[0;32m--> 291\u001b[0m     connection\u001b[39m.\u001b[39;49mconnect_to_java_server()\n\u001b[1;32m    292\u001b[0m     \u001b[39mself\u001b[39m\u001b[39m.\u001b[39mset_thread_connection(connection)\n\u001b[1;32m    293\u001b[0m     \u001b[39mreturn\u001b[39;00m connection\n",
      "File \u001b[0;32m~/opt/anaconda3/envs/AILyricsGen/lib/python3.9/site-packages/py4j/clientserver.py:438\u001b[0m, in \u001b[0;36mClientServerConnection.connect_to_java_server\u001b[0;34m(self)\u001b[0m\n\u001b[1;32m    435\u001b[0m \u001b[39mif\u001b[39;00m \u001b[39mself\u001b[39m\u001b[39m.\u001b[39mssl_context:\n\u001b[1;32m    436\u001b[0m     \u001b[39mself\u001b[39m\u001b[39m.\u001b[39msocket \u001b[39m=\u001b[39m \u001b[39mself\u001b[39m\u001b[39m.\u001b[39mssl_context\u001b[39m.\u001b[39mwrap_socket(\n\u001b[1;32m    437\u001b[0m         \u001b[39mself\u001b[39m\u001b[39m.\u001b[39msocket, server_hostname\u001b[39m=\u001b[39m\u001b[39mself\u001b[39m\u001b[39m.\u001b[39mjava_address)\n\u001b[0;32m--> 438\u001b[0m \u001b[39mself\u001b[39;49m\u001b[39m.\u001b[39;49msocket\u001b[39m.\u001b[39;49mconnect((\u001b[39mself\u001b[39;49m\u001b[39m.\u001b[39;49mjava_address, \u001b[39mself\u001b[39;49m\u001b[39m.\u001b[39;49mjava_port))\n\u001b[1;32m    439\u001b[0m \u001b[39mself\u001b[39m\u001b[39m.\u001b[39mstream \u001b[39m=\u001b[39m \u001b[39mself\u001b[39m\u001b[39m.\u001b[39msocket\u001b[39m.\u001b[39mmakefile(\u001b[39m\"\u001b[39m\u001b[39mrb\u001b[39m\u001b[39m\"\u001b[39m)\n\u001b[1;32m    440\u001b[0m \u001b[39mself\u001b[39m\u001b[39m.\u001b[39mis_connected \u001b[39m=\u001b[39m \u001b[39mTrue\u001b[39;00m\n",
      "\u001b[0;31mConnectionRefusedError\u001b[0m: [Errno 61] Connection refused"
     ]
    }
   ],
   "source": [
    "spark.stop()"
   ]
  },
  {
   "cell_type": "code",
   "execution_count": null,
   "metadata": {},
   "outputs": [],
   "source": []
  }
 ],
 "metadata": {
  "kernelspec": {
   "display_name": "AILyricsGen",
   "language": "python",
   "name": "python3"
  },
  "language_info": {
   "codemirror_mode": {
    "name": "ipython",
    "version": 3
   },
   "file_extension": ".py",
   "mimetype": "text/x-python",
   "name": "python",
   "nbconvert_exporter": "python",
   "pygments_lexer": "ipython3",
   "version": "3.9.18"
  }
 },
 "nbformat": 4,
 "nbformat_minor": 2
}
